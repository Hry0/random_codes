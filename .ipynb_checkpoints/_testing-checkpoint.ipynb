{
 "cells": [
  {
   "cell_type": "code",
   "execution_count": 5,
   "metadata": {},
   "outputs": [
    {
     "name": "stdout",
     "output_type": "stream",
     "text": [
      "Enter the number of rows in the pattern:21\n",
      "          *          \n",
      "         * *         \n",
      "        *   *        \n",
      "       *     *       \n",
      "      *       *      \n",
      "     *         *     \n",
      "    *************    \n",
      "   * *********** *   \n",
      "  *  ***********  *  \n",
      " *   ***********   * \n",
      "*    ***********    *\n",
      " *   ***********   * \n",
      "  *  ***********  *  \n",
      "   * *********** *   \n",
      "    *************    \n",
      "     *         *     \n",
      "      *       *      \n",
      "       *     *       \n",
      "        *   *        \n",
      "         * *         \n",
      "          *          \n"
     ]
    }
   ],
   "source": [
    "n=int(input(\"Enter the number of rows in the pattern:\"))\n",
    "s1=s2=n//2+1\n",
    "for i in range(1,n+1):\n",
    "    for j in range(1,n+1):\n",
    "        if j>=s1 and j<=s2:\n",
    "            if j>=n//4+1 and j<=n-n//4 and i>n//4+1 and i<n-n//4:\n",
    "                print(\"*\",end=\"\")\n",
    "            elif j==s1 or j==s2:\n",
    "                print(\"*\",end=\"\")\n",
    "            else:\n",
    "                print(end=\" \")\n",
    "        else:\n",
    "            print(end=\" \")\n",
    "    if i<n//2+1:\n",
    "        s1-=1\n",
    "        s2+=1\n",
    "    else:\n",
    "        s1+=1\n",
    "        s2-=1\n",
    "    print()"
   ]
  },
  {
   "cell_type": "code",
   "execution_count": null,
   "metadata": {},
   "outputs": [],
   "source": []
  }
 ],
 "metadata": {
  "interpreter": {
   "hash": "acfbf87a197976afe0e2cc1e681718e0d3e700f5ab2af6ea71c7e32df21f67c6"
  },
  "kernelspec": {
   "display_name": "Python 3 (ipykernel)",
   "language": "python",
   "name": "python3"
  },
  "language_info": {
   "codemirror_mode": {
    "name": "ipython",
    "version": 3
   },
   "file_extension": ".py",
   "mimetype": "text/x-python",
   "name": "python",
   "nbconvert_exporter": "python",
   "pygments_lexer": "ipython3",
   "version": "3.9.7"
  }
 },
 "nbformat": 4,
 "nbformat_minor": 2
}
