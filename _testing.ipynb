{
 "cells": [
  {
   "cell_type": "code",
   "execution_count": null,
   "metadata": {},
   "outputs": [],
   "source": [
    "from rich import print\n",
    "import glob\n",
    "import random\n",
    "import vlc\n",
    "print(\"Program to play your favourite song:\")\n",
    "folder=\"C://users//acer//music\"\n",
    "import glob\n",
    "Path=glob.glob(\"C://users//acer//music/*.mp3\")\n",
    "L2=glob.glob(\"C://users//acer//music/*.mp4\")\n",
    "\n",
    "Path.extend(L2)\n",
    "Names=[]\n",
    "for x in Path:\n",
    "    x=x.split(\"\\\\\")[1][:-4]\n",
    "    Names.append(x)\n",
    "l=len(Names)\n",
    "for i in range(1,l+1):\n",
    "    print(i,Names[i-1])\n",
    "nL=[]\n",
    "h=0\n",
    "ply=vlc.MediaPlayer()\n",
    "while True:\n",
    "    nL=[]\n",
    "    z=input(\"Enter the number to play the song or enter 'S' to create a shuffled playlist or 'Q' to quit:\")\n",
    "    ply.stop()\n",
    "    if z.isdigit() and int(z)<=len(Names):\n",
    "        n=int(z)\n",
    "        x=Path[n-1]\n",
    "        ply=vlc.MediaPlayer(x)\n",
    "        ply.play()\n",
    "    elif z=='s' or z=='S':\n",
    "        for j in range(l):\n",
    "            n=0\n",
    "            while l:\n",
    "                n=random.randint(1,l)\n",
    "                if n not in nL:\n",
    "                    nL.append(n)\n",
    "                    break\n",
    "                else:\n",
    "                    continue\n",
    "            x=Path[n-1]\n",
    "            ply=vlc.MediaPlayer(x)\n",
    "            ply.play()\n",
    "            inp=input(\" Enter 'N' for next song or 'Q' to quit:\")\n",
    "            ply.stop()\n",
    "            if inp==\"Q\" or inp==\"q\":\n",
    "                ply.stop()\n",
    "                break\n",
    "            elif inp==\"N\" or inp==\"n\":\n",
    "                ply.stop()\n",
    "    elif z=='q' or z==\"Q\":\n",
    "        break\n",
    "    else:\n",
    "        print(\"Invalid Input!!!!\")\n",
    "    h+=1\n",
    "    \n",
    "\n",
    "\n"
   ]
  },
  {
   "cell_type": "code",
   "execution_count": null,
   "metadata": {},
   "outputs": [],
   "source": [
    "import tkinter\n",
    "window=tkinter.Tk()\n",
    "window.title(\"Learning tkinter\")\n",
    "label=tkinter.Label(window, text=\"oh  wow..\").pack()\n",
    "window.mainloop()\n"
   ]
  }
 ],
 "metadata": {
  "interpreter": {
   "hash": "acfbf87a197976afe0e2cc1e681718e0d3e700f5ab2af6ea71c7e32df21f67c6"
  },
  "kernelspec": {
   "display_name": "Python 3 (ipykernel)",
   "language": "python",
   "name": "python3"
  },
  "language_info": {
   "codemirror_mode": {
    "name": "ipython",
    "version": 3
   },
   "file_extension": ".py",
   "mimetype": "text/x-python",
   "name": "python",
   "nbconvert_exporter": "python",
   "pygments_lexer": "ipython3",
   "version": "3.10.0"
  }
 },
 "nbformat": 4,
 "nbformat_minor": 2
}
